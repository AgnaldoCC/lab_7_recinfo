{
  "nbformat": 4,
  "nbformat_minor": 0,
  "metadata": {
    "colab": {
      "name": "lab_7_recinfo.ipynb",
      "version": "0.3.2",
      "provenance": [],
      "include_colab_link": true
    },
    "kernelspec": {
      "name": "python2",
      "display_name": "Python 2"
    }
  },
  "cells": [
    {
      "cell_type": "markdown",
      "metadata": {
        "id": "view-in-github",
        "colab_type": "text"
      },
      "source": [
        "<a href=\"https://colab.research.google.com/github/AgnaldoCC/lab_7_recinfo/blob/master/lab_7_recinfo.ipynb\" target=\"_parent\"><img src=\"https://colab.research.google.com/assets/colab-badge.svg\" alt=\"Open In Colab\"/></a>"
      ]
    },
    {
      "cell_type": "code",
      "metadata": {
        "id": "B1ao7vU4m6NO",
        "colab_type": "code",
        "colab": {
          "base_uri": "https://localhost:8080/",
          "height": 51
        },
        "outputId": "b97d16a5-4a42-44c2-d3a6-55c105cc98f3"
      },
      "source": [
        "\n",
        "import pandas as pd\n",
        "import numpy as np\n",
        "import nltk\n",
        "import re\n",
        "import collections\n",
        "import bisect\n",
        "from nltk.tokenize import RegexpTokenizer\n",
        "\n",
        "nltk.download('stopwords')\n",
        "resultado = pd.read_csv('https://raw.githubusercontent.com/AgnaldoCC/lab_6_recinfo/master/results.csv')\n",
        "json = pd.read_json('https://raw.githubusercontent.com/AgnaldoCC/lab_7_recinfo/master/results_final.json')\n",
        "feedback = {json['query'][i]:json['docs'][i] for i in range(10)}"
      ],
      "execution_count": 47,
      "outputs": [
        {
          "output_type": "stream",
          "text": [
            "[nltk_data] Downloading package stopwords to /root/nltk_data...\n",
            "[nltk_data]   Package stopwords is already up-to-date!\n"
          ],
          "name": "stdout"
        }
      ]
    },
    {
      "cell_type": "code",
      "metadata": {
        "id": "7pj5k1jCoIaU",
        "colab_type": "code",
        "colab": {
          "base_uri": "https://localhost:8080/",
          "height": 71
        },
        "outputId": "998e3fbc-5b74-48d3-becf-f4360ccf2aa1"
      },
      "source": [
        "tokens = RegexpTokenizer(r'([A-Za-zÁáÉéÍíÓóÚúÃãÕõÇçÂâÊê]{3,27})')\n",
        "stopwords = nltk.corpus.stopwords.words('portuguese') \n",
        "indices = {}\n",
        "M = resultado.text.count()\n",
        "\n",
        "for i in range(len(resultado)):\n",
        "  text = resultado.text[i]\n",
        "  words = [word for word in tokens.tokenize(text.lower())\n",
        "           if not bool(re.search(r'\\d', word))\n",
        "           and word not in stopwords and len(word) >= 3]  \n",
        "  for h in words:\n",
        "    if h not in indices.keys():\n",
        "      indices[h] = []\n",
        "    indices[h].append(i)\n",
        "    \n",
        "for elem in indices.items():\n",
        "  d = dict(collections.Counter(elem[1]))\n",
        "  indices[elem[0]] = list(d.items())\n",
        "  \n",
        "for word in indices:\n",
        "  k = len(indices[word])\n",
        "  IDF = round(np.log((M+1)/k),2)\n",
        "  indices[word].append(IDF)"
      ],
      "execution_count": 48,
      "outputs": [
        {
          "output_type": "stream",
          "text": [
            "/usr/local/lib/python2.7/dist-packages/ipykernel_launcher.py:10: UnicodeWarning: Unicode equal comparison failed to convert both arguments to Unicode - interpreting them as being unequal\n",
            "  # Remove the CWD from sys.path while we load stuff.\n"
          ],
          "name": "stderr"
        }
      ]
    },
    {
      "cell_type": "markdown",
      "metadata": {
        "id": "D0gQeQkqqAHF",
        "colab_type": "text"
      },
      "source": [
        "**1. Escolha um documento dentre aqueles da base do aluno Bernardi e crie uma consulta que você acha que tem boas chances de recuperar este documento. Em seguida, avalie os resultados de tal consulta usando a métrica de avaliação Reciprocal Rank**"
      ]
    },
    {
      "cell_type": "markdown",
      "metadata": {
        "id": "b7NLKCNPqBRO",
        "colab_type": "text"
      },
      "source": [
        "Foi escolhido o documento 206, que fala sobre uma doação feita a família de Bolsonaro, no valor de 100.000 reais, por 2 acessores."
      ]
    },
    {
      "cell_type": "code",
      "metadata": {
        "id": "_Q9gOu95qaWO",
        "colab_type": "code",
        "colab": {
          "base_uri": "https://localhost:8080/",
          "height": 34
        },
        "outputId": "d415c5df-7b5f-4a27-deec-4bfb1c5bf4ac"
      },
      "source": [
        "ndoc = 206\n",
        "document = resultado.loc[ndoc]\n",
        "query = 'assessores bolsonaro'\n",
        "\n",
        "document.title"
      ],
      "execution_count": 49,
      "outputs": [
        {
          "output_type": "execute_result",
          "data": {
            "text/plain": [
              "'Dois assessores de Bolsonaro doaram mais de 100.000 reais a campanhas da fam\\xc3\\xadlia'"
            ]
          },
          "metadata": {
            "tags": []
          },
          "execution_count": 49
        }
      ]
    },
    {
      "cell_type": "markdown",
      "metadata": {
        "id": "l1tmKQ3LqsSm",
        "colab_type": "text"
      },
      "source": [
        "Seguem abaixo as definições de modelos vetoriais feitos no lab anterior."
      ]
    },
    {
      "cell_type": "code",
      "metadata": {
        "id": "6fMLFHuBqxkm",
        "colab_type": "code",
        "colab": {}
      },
      "source": [
        "def tf(query, document):\n",
        "  score = 0\n",
        "  doc_tokens = document.split()\n",
        "  query_tokens = query.split()\n",
        "  \n",
        "  for word in query_tokens:\n",
        "    score += doc_tokens.count(word)\n",
        "  \n",
        "  return score"
      ],
      "execution_count": 0,
      "outputs": []
    },
    {
      "cell_type": "code",
      "metadata": {
        "id": "VH-wSxMlq0A3",
        "colab_type": "code",
        "colab": {}
      },
      "source": [
        "\n",
        "def binaria(query, document):\n",
        "  score = 0\n",
        "  query_tokens = query.split()\n",
        "  doc_tokens = document.split()\n",
        "  \n",
        "  for token in query_tokens:\n",
        "    score += (token in doc_tokens)\n",
        "    \n",
        "  return score"
      ],
      "execution_count": 0,
      "outputs": []
    },
    {
      "cell_type": "code",
      "metadata": {
        "id": "GxejG-sAq2ju",
        "colab_type": "code",
        "colab": {}
      },
      "source": [
        "def bm25(query, document, k):\n",
        "  score = 0\n",
        "  doc_tokens = document.split()\n",
        "  query_tokens = query.split()\n",
        "  \n",
        "  words = [word for word in query_tokens if word in doc_tokens]\n",
        "    \n",
        "  for word in words:\n",
        "    cwd = doc_tokens.count(word)\n",
        "    dfw = 0\n",
        "    if word in indices:\n",
        "      dfw = len(indices[word][:-1])\n",
        "    score += (((k+1) * cwd) / (cwd + k)) * np.log10(((M+1) / dfw)) if dfw != 0 else 0\n",
        "  \n",
        "  return round(score,2)"
      ],
      "execution_count": 0,
      "outputs": []
    },
    {
      "cell_type": "code",
      "metadata": {
        "id": "Iw-mnjYMrD0V",
        "colab_type": "code",
        "colab": {}
      },
      "source": [
        "def tfidf(query, document):\n",
        "  score = 0\n",
        "  doc_tokens = document.split()\n",
        "  query_tokens = query.split()\n",
        "  \n",
        "  for word in query_tokens:\n",
        "    cwd = doc_tokens.count(word)\n",
        "    if word in indices:\n",
        "      score += cwd * indices[word][-1]\n",
        "  \n",
        "  return round(score,2)"
      ],
      "execution_count": 0,
      "outputs": []
    },
    {
      "cell_type": "code",
      "metadata": {
        "id": "3PKIpRyorWro",
        "colab_type": "code",
        "colab": {}
      },
      "source": [
        "def cria_modelos(query, l):\n",
        "  n = 0\n",
        "  db = []\n",
        "  dtf = []\n",
        "  dtfidf = []\n",
        "  dbm25 = []\n",
        "  for doc in resultado.text:\n",
        "    doc = doc.lower()\n",
        "    n += 1\n",
        "    bisect.insort(db, (binaria(query, doc), n))\n",
        "    bisect.insort(dtf, (tf(query,doc), n))\n",
        "    bisect.insort(dtfidf, (tfidf(query,doc), n))\n",
        "    bisect.insort(dbm25, (bm25(query,doc,20), n))\n",
        "  \n",
        "  db.reverse()\n",
        "  dtf.reverse()\n",
        "  dtfidf.reverse()\n",
        "  dbm25.reverse()\n",
        "  \n",
        "  return db[:l], dtf[:l], dtfidf[:l], dbm25[:l]"
      ],
      "execution_count": 0,
      "outputs": []
    },
    {
      "cell_type": "code",
      "metadata": {
        "id": "i_r4j0sXrtPH",
        "colab_type": "code",
        "colab": {}
      },
      "source": [
        "top_binaria, top_tf, top_tfidf, top_bm25 = cria_modelos(query,10)"
      ],
      "execution_count": 0,
      "outputs": []
    },
    {
      "cell_type": "markdown",
      "metadata": {
        "id": "DHtLwLo_sfsn",
        "colab_type": "text"
      },
      "source": [
        "**Resultado:**"
      ]
    },
    {
      "cell_type": "code",
      "metadata": {
        "id": "TGpFRKjCshZY",
        "colab_type": "code",
        "colab": {
          "base_uri": "https://localhost:8080/",
          "height": 359
        },
        "outputId": "1620a82f-769a-4d35-ee28-2cdc8f16eedb"
      },
      "source": [
        "query_df = pd.DataFrame()\n",
        "\n",
        "query_df['Binary'] = top_binaria\n",
        "query_df['TF'] = top_tf\n",
        "query_df['TF-IDF'] = top_tfidf\n",
        "query_df['BM25'] = top_bm25\n",
        "\n",
        "query_df.index+=1\n",
        "query_df"
      ],
      "execution_count": 56,
      "outputs": [
        {
          "output_type": "execute_result",
          "data": {
            "text/html": [
              "<div>\n",
              "<style scoped>\n",
              "    .dataframe tbody tr th:only-of-type {\n",
              "        vertical-align: middle;\n",
              "    }\n",
              "\n",
              "    .dataframe tbody tr th {\n",
              "        vertical-align: top;\n",
              "    }\n",
              "\n",
              "    .dataframe thead th {\n",
              "        text-align: right;\n",
              "    }\n",
              "</style>\n",
              "<table border=\"1\" class=\"dataframe\">\n",
              "  <thead>\n",
              "    <tr style=\"text-align: right;\">\n",
              "      <th></th>\n",
              "      <th>Binary</th>\n",
              "      <th>TF</th>\n",
              "      <th>TF-IDF</th>\n",
              "      <th>BM25</th>\n",
              "    </tr>\n",
              "  </thead>\n",
              "  <tbody>\n",
              "    <tr>\n",
              "      <th>1</th>\n",
              "      <td>(2, 240)</td>\n",
              "      <td>(52, 207)</td>\n",
              "      <td>(111.32, 207)</td>\n",
              "      <td>(22.71, 207)</td>\n",
              "    </tr>\n",
              "    <tr>\n",
              "      <th>2</th>\n",
              "      <td>(2, 225)</td>\n",
              "      <td>(32, 151)</td>\n",
              "      <td>(35.2, 151)</td>\n",
              "      <td>(5.73, 166)</td>\n",
              "    </tr>\n",
              "    <tr>\n",
              "      <th>3</th>\n",
              "      <td>(2, 207)</td>\n",
              "      <td>(30, 166)</td>\n",
              "      <td>(33.0, 166)</td>\n",
              "      <td>(5.73, 151)</td>\n",
              "    </tr>\n",
              "    <tr>\n",
              "      <th>4</th>\n",
              "      <td>(2, 205)</td>\n",
              "      <td>(19, 19)</td>\n",
              "      <td>(20.9, 19)</td>\n",
              "      <td>(4.77, 19)</td>\n",
              "    </tr>\n",
              "    <tr>\n",
              "      <th>5</th>\n",
              "      <td>(2, 111)</td>\n",
              "      <td>(12, 42)</td>\n",
              "      <td>(13.72, 225)</td>\n",
              "      <td>(3.93, 205)</td>\n",
              "    </tr>\n",
              "    <tr>\n",
              "      <th>6</th>\n",
              "      <td>(1, 248)</td>\n",
              "      <td>(11, 216)</td>\n",
              "      <td>(13.2, 42)</td>\n",
              "      <td>(3.45, 225)</td>\n",
              "    </tr>\n",
              "    <tr>\n",
              "      <th>7</th>\n",
              "      <td>(1, 238)</td>\n",
              "      <td>(8, 225)</td>\n",
              "      <td>(12.1, 216)</td>\n",
              "      <td>(3.45, 111)</td>\n",
              "    </tr>\n",
              "    <tr>\n",
              "      <th>8</th>\n",
              "      <td>(1, 237)</td>\n",
              "      <td>(8, 208)</td>\n",
              "      <td>(11.26, 205)</td>\n",
              "      <td>(3.34, 216)</td>\n",
              "    </tr>\n",
              "    <tr>\n",
              "      <th>9</th>\n",
              "      <td>(1, 236)</td>\n",
              "      <td>(8, 205)</td>\n",
              "      <td>(10.16, 111)</td>\n",
              "      <td>(3.34, 42)</td>\n",
              "    </tr>\n",
              "    <tr>\n",
              "      <th>10</th>\n",
              "      <td>(1, 235)</td>\n",
              "      <td>(7, 111)</td>\n",
              "      <td>(8.8, 208)</td>\n",
              "      <td>(2.86, 208)</td>\n",
              "    </tr>\n",
              "  </tbody>\n",
              "</table>\n",
              "</div>"
            ],
            "text/plain": [
              "      Binary         TF         TF-IDF          BM25\n",
              "1   (2, 240)  (52, 207)  (111.32, 207)  (22.71, 207)\n",
              "2   (2, 225)  (32, 151)    (35.2, 151)   (5.73, 166)\n",
              "3   (2, 207)  (30, 166)    (33.0, 166)   (5.73, 151)\n",
              "4   (2, 205)   (19, 19)     (20.9, 19)    (4.77, 19)\n",
              "5   (2, 111)   (12, 42)   (13.72, 225)   (3.93, 205)\n",
              "6   (1, 248)  (11, 216)     (13.2, 42)   (3.45, 225)\n",
              "7   (1, 238)   (8, 225)    (12.1, 216)   (3.45, 111)\n",
              "8   (1, 237)   (8, 208)   (11.26, 205)   (3.34, 216)\n",
              "9   (1, 236)   (8, 205)   (10.16, 111)    (3.34, 42)\n",
              "10  (1, 235)   (7, 111)     (8.8, 208)   (2.86, 208)"
            ]
          },
          "metadata": {
            "tags": []
          },
          "execution_count": 56
        }
      ]
    },
    {
      "cell_type": "markdown",
      "metadata": {
        "id": "3CVKAHulsoR-",
        "colab_type": "text"
      },
      "source": [
        "**Reciprocal Rank**"
      ]
    },
    {
      "cell_type": "code",
      "metadata": {
        "id": "rIU7pMSSsqdn",
        "colab_type": "code",
        "colab": {
          "base_uri": "https://localhost:8080/",
          "height": 49
        },
        "outputId": "eacdc298-9d8a-49cc-8cd5-4dc619653090"
      },
      "source": [
        "def reciprocal_rank(tuplas, id_doc):\n",
        "  n = 1.0;\n",
        "  for doc in tuplas:\n",
        "    if doc == id_doc:\n",
        "      return  [round(1 / n, 2)]\n",
        "    else:\n",
        "      n += 1\n",
        "\n",
        "rank_df = pd.DataFrame()\n",
        "rank_df['Binary'] = reciprocal_rank(query_df['Binary'], ndoc)\n",
        "rank_df['TF'] = reciprocal_rank(query_df['TF'], ndoc)\n",
        "rank_df['TF-IDF'] = reciprocal_rank(query_df['TF-IDF'], ndoc)\n",
        "rank_df['BM25'] = reciprocal_rank(query_df['BM25'], ndoc)\n",
        "rank_df.index+=1\n",
        "rank_df"
      ],
      "execution_count": 57,
      "outputs": [
        {
          "output_type": "execute_result",
          "data": {
            "text/html": [
              "<div>\n",
              "<style scoped>\n",
              "    .dataframe tbody tr th:only-of-type {\n",
              "        vertical-align: middle;\n",
              "    }\n",
              "\n",
              "    .dataframe tbody tr th {\n",
              "        vertical-align: top;\n",
              "    }\n",
              "\n",
              "    .dataframe thead th {\n",
              "        text-align: right;\n",
              "    }\n",
              "</style>\n",
              "<table border=\"1\" class=\"dataframe\">\n",
              "  <thead>\n",
              "    <tr style=\"text-align: right;\">\n",
              "      <th></th>\n",
              "      <th>Binary</th>\n",
              "      <th>TF</th>\n",
              "      <th>TF-IDF</th>\n",
              "      <th>BM25</th>\n",
              "    </tr>\n",
              "  </thead>\n",
              "  <tbody>\n",
              "  </tbody>\n",
              "</table>\n",
              "</div>"
            ],
            "text/plain": [
              "Empty DataFrame\n",
              "Columns: [Binary, TF, TF-IDF, BM25]\n",
              "Index: []"
            ]
          },
          "metadata": {
            "tags": []
          },
          "execution_count": 57
        }
      ]
    }
  ]
}